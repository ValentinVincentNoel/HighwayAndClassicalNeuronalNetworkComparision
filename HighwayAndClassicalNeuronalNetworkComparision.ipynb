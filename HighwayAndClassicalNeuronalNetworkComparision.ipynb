{
 "cells": [
  {
   "cell_type": "code",
   "execution_count": 2,
   "metadata": {},
   "outputs": [
    {
     "name": "stdout",
     "output_type": "stream",
     "text": [
      "Loading...\n",
      "fin\n"
     ]
    }
   ],
   "source": [
    "import torch\n",
    "import torch.nn.functional as F\n",
    "from torch import nn\n",
    "from torch.autograd import Function\n",
    "from torchvision import datasets, transforms\n",
    "import matplotlib.pyplot as plt\n",
    "import numpy as np\n",
    "from torch.autograd import Variable\n",
    "\n",
    "def load_mnist(filename):\n",
    "    with open(filename, \"r\") as f:\n",
    "        f.readline()\n",
    "        data =[ [float(x) for x in l.split()] for l in f]\n",
    "    tmp = np.array(data)\n",
    "    return tmp[:,:-1],tmp[:,-1].astype(int)\n",
    "\n",
    "\n",
    "batch_size = 64\n",
    "train_loader_classic = torch.utils.data.DataLoader(\n",
    "    datasets.MNIST(\n",
    "        '../data', \n",
    "        train=True, \n",
    "        download=False, \n",
    "        transform=transforms.Compose([transforms.ToTensor(), transforms.Normalize((0.1307,),(0.3081,))])), \n",
    "    batch_size=batch_size, \n",
    "    shuffle=True)\n",
    "\n",
    "print(\"Loading...\")\n",
    "batch_size = 64\n",
    "\n",
    "def load(name_train, name_test):\n",
    "    train = load_mnist(name_train)\n",
    "    test = load_mnist(name_test)\n",
    "    trainset_2 = torch.utils.data.TensorDataset(torch.from_numpy(train[0]).type(torch.FloatTensor), torch.from_numpy(train[1]).type(torch.LongTensor))\n",
    "    testset_2 = torch.utils.data.TensorDataset(torch.from_numpy(test[0]).type(torch.FloatTensor), torch.from_numpy(test[1]).type(torch.LongTensor))\n",
    "    train_loader_random = torch.utils.data.DataLoader(trainset_2, batch_size=batch_size, shuffle=True) \n",
    "    test_loader_random = torch.utils.data.DataLoader(testset_2, batch_size=batch_size, shuffle=True)\n",
    "    return train_loader_random, test_loader_random\n",
    "\n",
    "train_loader_random, test_loader_random = load(\n",
    "    '/Users/valentin/Downloads/mnist_background_random/mnist_background_random_train.amat',\n",
    "    '/Users/valentin/Downloads/mnist_background_random/mnist_background_random_test.amat')\n",
    "\n",
    "print(\"fin\")"
   ]
  },
  {
   "cell_type": "code",
   "execution_count": 3,
   "metadata": {},
   "outputs": [],
   "source": [
    "class Highway(nn.Module):\n",
    "    \"\"\"https://github.com/kefirski/pytorch_Highway/blob/master/highway/highway.py\"\"\"\n",
    "    def __init__(self, size, num_layers, f):\n",
    "        super(Highway, self).__init__()\n",
    "        self.num_layers = num_layers\n",
    "        self.nonlinear = nn.ModuleList([nn.Linear(size, size) for _ in range(num_layers)])\n",
    "        self.linear = nn.ModuleList([nn.Linear(size, size) for _ in range(num_layers)])\n",
    "        self.gate = nn.ModuleList([nn.Linear(size, size) for _ in range(num_layers)])\n",
    "        self.f = f\n",
    "\n",
    "    def forward(self, x):\n",
    "        \"\"\"\n",
    "            :param x: tensor with shape of [batch_size, size]\n",
    "            :return: tensor with shape of [batch_size, size]\n",
    "            applies σ(x) ⨀ (f(G(x))) + (1 - σ(x)) ⨀ (Q(x)) transformation | G and Q is affine transformation,\n",
    "            f is non-linear transformation, σ(x) is affine transformation with sigmoid non-linearition\n",
    "            and ⨀ is element-wise multiplication\n",
    "            \"\"\"\n",
    "        for layer in range(self.num_layers):\n",
    "            gate = F.sigmoid(self.gate[layer](x))\n",
    "            nonlinear = self.f(self.nonlinear[layer](x))\n",
    "            linear = self.linear[layer](x)\n",
    "            x = gate * nonlinear + (1 - gate) * linear\n",
    "        return x\n",
    "    \n",
    "class Model(nn.Module):\n",
    "    def __init__(self):\n",
    "        nn.Module.__init__(self)\n",
    "        self.list_module = nn.ModuleList()\n",
    "        \n",
    "    def forward(self, x):\n",
    "        for i in range(0, len(self.list_module)):\n",
    "            x = self.list_module[i](x)\n",
    "        return x\n",
    "    \n",
    "    \n",
    "def forward(data, target):\n",
    "    data = data.view(-1, 28*28)\n",
    "    batch_size = data.size()[0]\n",
    "    y_onehot = torch.FloatTensor(batch_size, 10) \n",
    "    y_onehot.zero_()\n",
    "    y_onehot = y_onehot - 1\n",
    "    y_onehot.scatter_(1, target.view(-1,1), 1)\n",
    "    target = y_onehot\n",
    "    optimizer.zero_grad()\n",
    "    x = Variable(data)\n",
    "    y = Variable(target)\n",
    "    \"\"\"out = m(x)\n",
    "    out2 = t(out)\n",
    "    err = l(out2)\"\"\"\n",
    "    out = m(x)\n",
    "    err = l(out, y)\n",
    "    return err\n",
    "    \n",
    "def train(train_loader, nb_epoch, test_loader_random):\n",
    "    list_err = []\n",
    "    for j in range(0, nb_epoch):\n",
    "        for i,(data,target) in enumerate(train_loader):\n",
    "            err = forward(data, target)\n",
    "            list_err.append(torch.mean(err.data))\n",
    "            err.backward()\n",
    "            optimizer.step()\n",
    "        if j%10 == 0:\n",
    "            print(\"Epoch : \"+str(j))\n",
    "            test(test_loader_random)\n",
    "    return list_err\n",
    "            \n",
    "def test(test_loader):\n",
    "    list_test = []\n",
    "    for i,(data,target) in enumerate(test_loader):\n",
    "        err = forward(data, target)\n",
    "        list_test.append(torch.mean(err.data))\n",
    "    print(\"Erreur Test : \"+str(sum(list_test)/len(list_test)))\n",
    "    \n",
    "def show(list_err, nom):\n",
    "    print(\"Train Loss \"+nom)\n",
    "    plt.plot(np.arange(0, len(list_err)), list_err)\n",
    "    plt.show()\n",
    "        \n",
    "\n",
    "nb_epoch = 100\n",
    "#N = train_loader_random.dataset.train_data.size()[0]\n",
    "N = 50000\n",
    "taux_test = 0.2\n",
    "l = nn.MSELoss()"
   ]
  },
  {
   "cell_type": "code",
   "execution_count": 4,
   "metadata": {},
   "outputs": [
    {
     "name": "stdout",
     "output_type": "stream",
     "text": [
      "Epoch : 0\n",
      "Erreur Test : 0.38204101913268\n",
      "Epoch : 10\n",
      "Erreur Test : 0.331483430074304\n",
      "Epoch : 20\n",
      "Erreur Test : 0.3000034700193064\n",
      "Epoch : 30\n",
      "Erreur Test : 0.2793667657524728\n",
      "Epoch : 40\n",
      "Erreur Test : 0.2654529538224725\n",
      "Epoch : 50\n",
      "Erreur Test : 0.2555283619391034\n",
      "Epoch : 60\n",
      "Erreur Test : 0.24839336851902324\n",
      "Epoch : 70\n",
      "Erreur Test : 0.24298760729372654\n",
      "Epoch : 80\n",
      "Erreur Test : 0.23879403567603788\n",
      "Epoch : 90\n",
      "Erreur Test : 0.2352424091123559\n",
      "Train Loss Random Lineaire 1 couche\n"
     ]
    },
    {
     "data": {
      "image/png": "[encoded data removed]",
      "text/plain": [
       "<matplotlib.figure.Figure at 0x106aa47b8>"
      ]
     },
     "metadata": {},
     "output_type": "display_data"
    }
   ],
   "source": [
    "class ModelLineaire1Couche(Model):\n",
    "    def __init__(self):\n",
    "        Model.__init__(self)\n",
    "        self.list_module.append(nn.Linear(784, 10))\n",
    "        \n",
    "m = ModelLineaire1Couche()\n",
    "optimizer = torch.optim.SGD(m.parameters(), lr=1e-3)\n",
    "list_err = train(train_loader_random, nb_epoch, test_loader_random)\n",
    "show(list_err, \"Random Lineaire 1 couche\")"
   ]
  },
  {
   "cell_type": "code",
   "execution_count": 5,
   "metadata": {},
   "outputs": [
    {
     "name": "stdout",
     "output_type": "stream",
     "text": [
      "Epoch : 0\n",
      "Erreur Test : 0.86176457726742\n",
      "Epoch : 10\n",
      "Erreur Test : 0.3617506945300895\n",
      "Epoch : 20\n",
      "Erreur Test : 0.3603099942435999\n",
      "Epoch : 30\n",
      "Erreur Test : 0.3601910643794043\n",
      "Epoch : 40\n",
      "Erreur Test : 0.360072571450792\n",
      "Epoch : 50\n",
      "Erreur Test : 0.3599531495052835\n",
      "Epoch : 60\n",
      "Erreur Test : 0.3598294405985976\n",
      "Epoch : 70\n",
      "Erreur Test : 0.3597042523991421\n",
      "Epoch : 80\n",
      "Erreur Test : 0.3595788905687649\n",
      "Epoch : 90\n",
      "Erreur Test : 0.3594508682904036\n",
      "Train Loss Random Highway 3+2 couches\n"
     ]
    },
    {
     "data": {
      "image/png": "[encoded data removed]",
      "text/plain": [
       "<matplotlib.figure.Figure at 0x10c9f3cc0>"
      ]
     },
     "metadata": {},
     "output_type": "display_data"
    }
   ],
   "source": [
    "class ModelHighway(Model):\n",
    "    def __init__(self):\n",
    "        Model.__init__(self)\n",
    "        self.list_module.append(nn.Linear(784, 50))\n",
    "        self.list_module.append(Highway(50, 3, F.tanh))\n",
    "        self.list_module.append(nn.Linear(50, 10))\n",
    "\n",
    "m = ModelHighway()\n",
    "optimizer = torch.optim.SGD(m.parameters(), lr=1e-3)\n",
    "list_err = train(train_loader_random, nb_epoch, test_loader_random)\n",
    "show(list_err, \"Random Highway 3+2 couches\")"
   ]
  },
  {
   "cell_type": "code",
   "execution_count": 6,
   "metadata": {},
   "outputs": [
    {
     "name": "stdout",
     "output_type": "stream",
     "text": [
      "Epoch : 0\n",
      "Erreur Test : 0.6282084767928209\n",
      "Epoch : 10\n",
      "Erreur Test : 0.3603635262269193\n",
      "Epoch : 20\n",
      "Erreur Test : 0.35941225187400416\n",
      "Epoch : 30\n",
      "Erreur Test : 0.35842820598036434\n",
      "Epoch : 40\n",
      "Erreur Test : 0.35738953201057355\n",
      "Epoch : 50\n",
      "Erreur Test : 0.35623468694936894\n",
      "Epoch : 60\n",
      "Erreur Test : 0.35493140707692833\n",
      "Epoch : 70\n",
      "Erreur Test : 0.3534308474158387\n",
      "Epoch : 80\n",
      "Erreur Test : 0.35165451390816427\n",
      "Epoch : 90\n",
      "Erreur Test : 0.3495372617259965\n",
      "Train Loss Random Lineaire 5 couches\n"
     ]
    },
    {
     "data": {
      "image/png": "[encoded data removed]",
      "text/plain": [
       "<matplotlib.figure.Figure at 0x1066bfc18>"
      ]
     },
     "metadata": {},
     "output_type": "display_data"
    }
   ],
   "source": [
    "class ModelLineaire5Couche(Model):\n",
    "    def __init__(self):\n",
    "        Model.__init__(self)\n",
    "        self.list_module.append(nn.Linear(784, 50))\n",
    "        self.list_module.append(nn.Linear(50, 50))\n",
    "        self.list_module.append(nn.Linear(50, 50))\n",
    "        self.list_module.append(nn.Linear(50, 50))\n",
    "        self.list_module.append(nn.Linear(50, 10))\n",
    "        \n",
    "m = ModelLineaire5Couche()\n",
    "optimizer = torch.optim.SGD(m.parameters(), lr=1e-3)\n",
    "list_err = train(train_loader_random, nb_epoch, test_loader_random)\n",
    "show(list_err, \"Random Lineaire 5 couches\")"
   ]
  },
  {
   "cell_type": "code",
   "execution_count": 7,
   "metadata": {},
   "outputs": [
    {
     "name": "stdout",
     "output_type": "stream",
     "text": [
      "Loading...\n",
      "fin\n"
     ]
    }
   ],
   "source": [
    "print(\"Loading...\")\n",
    "train_loader_background, test_loader_background = load(\n",
    "    '/Users/valentin/Downloads/mnist_background_images/mnist_background_images_train.amat',\n",
    "    '/Users/valentin/Downloads/mnist_background_images/mnist_background_images_test.amat')\n",
    "print(\"fin\")"
   ]
  },
  {
   "cell_type": "code",
   "execution_count": 8,
   "metadata": {},
   "outputs": [
    {
     "name": "stdout",
     "output_type": "stream",
     "text": [
      "Epoch : 0\n",
      "Erreur Test : 0.40507671115038646\n",
      "Epoch : 10\n",
      "Erreur Test : 0.3428925585640056\n",
      "Epoch : 20\n",
      "Erreur Test : 0.31295599047180334\n",
      "Epoch : 30\n",
      "Erreur Test : 0.2961539671853985\n",
      "Epoch : 40\n",
      "Erreur Test : 0.2855963678768529\n",
      "Epoch : 50\n",
      "Erreur Test : 0.27838758032416444\n",
      "Epoch : 60\n",
      "Erreur Test : 0.2732472796459942\n",
      "Epoch : 70\n",
      "Erreur Test : 0.2693668791400197\n",
      "Epoch : 80\n",
      "Erreur Test : 0.2662330740476813\n",
      "Epoch : 90\n",
      "Erreur Test : 0.2638257110629545\n",
      "Train Loss Background Lineaire 1 couche\n"
     ]
    },
    {
     "data": {
      "image/png": "[encoded data removed]",
      "text/plain": [
       "<matplotlib.figure.Figure at 0x1112bb390>"
      ]
     },
     "metadata": {},
     "output_type": "display_data"
    }
   ],
   "source": [
    "m = ModelLineaire1Couche()\n",
    "optimizer = torch.optim.SGD(m.parameters(), lr=1e-3)\n",
    "list_err = train(train_loader_background, nb_epoch, test_loader_background)\n",
    "show(list_err, \"Background Lineaire 1 couche\")"
   ]
  },
  {
   "cell_type": "code",
   "execution_count": 9,
   "metadata": {},
   "outputs": [
    {
     "name": "stdout",
     "output_type": "stream",
     "text": [
      "Epoch : 0\n",
      "Erreur Test : 0.8927472139258519\n",
      "Epoch : 10\n",
      "Erreur Test : 0.37012057128312337\n",
      "Epoch : 20\n",
      "Erreur Test : 0.3658972425610208\n",
      "Epoch : 30\n",
      "Erreur Test : 0.36464694996014274\n",
      "Epoch : 40\n",
      "Erreur Test : 0.3636224971479162\n",
      "Epoch : 50\n",
      "Erreur Test : 0.3627549587460735\n",
      "Epoch : 60\n",
      "Erreur Test : 0.3620343648487955\n",
      "Epoch : 70\n",
      "Erreur Test : 0.3614087644059335\n",
      "Epoch : 80\n",
      "Erreur Test : 0.3608763413813413\n",
      "Epoch : 90\n",
      "Erreur Test : 0.36041285543490553\n",
      "Train Loss Random Highway 3+2 couches\n"
     ]
    },
    {
     "data": {
      "image/png": "[encoded data removed]",
      "text/plain": [
       "<matplotlib.figure.Figure at 0x118ec8278>"
      ]
     },
     "metadata": {},
     "output_type": "display_data"
    }
   ],
   "source": [
    "m = ModelHighway()\n",
    "optimizer = torch.optim.SGD(m.parameters(), lr=1e-3)\n",
    "list_err = train(train_loader_background, nb_epoch, test_loader_background)\n",
    "show(list_err, \"Background Highway 3+2 couches\")"
   ]
  },
  {
   "cell_type": "code",
   "execution_count": 10,
   "metadata": {},
   "outputs": [
    {
     "name": "stdout",
     "output_type": "stream",
     "text": [
      "Epoch : 0\n",
      "Erreur Test : 0.6922239930276066\n",
      "Epoch : 10\n",
      "Erreur Test : 0.37807849045757136\n",
      "Epoch : 20\n",
      "Erreur Test : 0.3740827456078566\n",
      "Epoch : 30\n",
      "Erreur Test : 0.37050679745271686\n",
      "Epoch : 40\n",
      "Erreur Test : 0.36719444676128493\n",
      "Epoch : 50\n",
      "Erreur Test : 0.3640266094747407\n",
      "Epoch : 60\n",
      "Erreur Test : 0.3609095807270626\n",
      "Epoch : 70\n",
      "Erreur Test : 0.35772641128896143\n",
      "Epoch : 80\n",
      "Erreur Test : 0.3544015924034216\n",
      "Epoch : 90\n",
      "Erreur Test : 0.35077897491662396\n",
      "Train Loss Background Lineaire 5 couches\n"
     ]
    },
    {
     "data": {
      "image/png": "[encoded data removed]",
      "text/plain": [
       "<matplotlib.figure.Figure at 0x1120aa400>"
      ]
     },
     "metadata": {},
     "output_type": "display_data"
    }
   ],
   "source": [
    "m = ModelLineaire5Couche()\n",
    "optimizer = torch.optim.SGD(m.parameters(), lr=1e-3)\n",
    "list_err = train(train_loader_background, nb_epoch, test_loader_background)\n",
    "show(list_err, \"Background Lineaire 5 couches\")"
   ]
  },
  {
   "cell_type": "code",
   "execution_count": 12,
   "metadata": {},
   "outputs": [
    {
     "name": "stdout",
     "output_type": "stream",
     "text": [
      "Loading...\n",
      "fin\n"
     ]
    }
   ],
   "source": [
    "print(\"Loading...\")\n",
    "train_loader_classic, test_loader_classic = load(\n",
    "    '/Users/valentin/Downloads/mnist/mnist_train.amat',\n",
    "    '/Users/valentin/Downloads/mnist/mnist_test.amat')\n",
    "print(\"fin\")"
   ]
  },
  {
   "cell_type": "code",
   "execution_count": 13,
   "metadata": {},
   "outputs": [
    {
     "name": "stdout",
     "output_type": "stream",
     "text": [
      "Epoch : 0\n",
      "Erreur Test : 0.4210012267388956\n",
      "Epoch : 10\n",
      "Erreur Test : 0.2708772985488557\n",
      "Epoch : 20\n",
      "Erreur Test : 0.24374818533201656\n",
      "Epoch : 30\n",
      "Erreur Test : 0.23078466364947123\n",
      "Epoch : 40\n",
      "Erreur Test : 0.22263539538663976\n",
      "Epoch : 50\n",
      "Erreur Test : 0.21669980271926623\n",
      "Epoch : 60\n",
      "Erreur Test : 0.21227775763748857\n",
      "Epoch : 70\n",
      "Erreur Test : 0.2085725359447167\n",
      "Epoch : 80\n",
      "Erreur Test : 0.20546759552586719\n",
      "Epoch : 90\n",
      "Erreur Test : 0.20276725296016848\n",
      "Train Loss Classic Lineaire 1 couche\n"
     ]
    },
    {
     "data": {
      "image/png": "[encoded data removed]",
      "text/plain": [
       "<matplotlib.figure.Figure at 0x1066bfd30>"
      ]
     },
     "metadata": {},
     "output_type": "display_data"
    }
   ],
   "source": [
    "m = ModelLineaire1Couche()\n",
    "optimizer = torch.optim.SGD(m.parameters(), lr=1e-3)\n",
    "list_err = train(train_loader_classic, nb_epoch, test_loader_classic)\n",
    "show(list_err, \"Classic Lineaire 1 couche\")"
   ]
  },
  {
   "cell_type": "code",
   "execution_count": 14,
   "metadata": {},
   "outputs": [
    {
     "name": "stdout",
     "output_type": "stream",
     "text": [
      "Epoch : 0\n",
      "Erreur Test : 0.9145307416653694\n",
      "Epoch : 10\n",
      "Erreur Test : 0.5349607456980459\n",
      "Epoch : 20\n",
      "Erreur Test : 0.3846040409620461\n",
      "Epoch : 30\n",
      "Erreur Test : 0.3608879124569466\n",
      "Epoch : 40\n",
      "Erreur Test : 0.35889675012787287\n",
      "Epoch : 50\n",
      "Erreur Test : 0.3580306050417673\n",
      "Epoch : 60\n",
      "Erreur Test : 0.3571907930133288\n",
      "Epoch : 70\n",
      "Erreur Test : 0.35629932929182906\n",
      "Epoch : 80\n",
      "Erreur Test : 0.3553161169485668\n",
      "Epoch : 90\n",
      "Erreur Test : 0.3542007332491448\n",
      "Train Loss Background Highway 3+2 couches\n"
     ]
    },
    {
     "data": {
      "image/png": "[encoded data removed]",
      "text/plain": [
       "<matplotlib.figure.Figure at 0x10677b160>"
      ]
     },
     "metadata": {},
     "output_type": "display_data"
    }
   ],
   "source": [
    "m = ModelHighway()\n",
    "optimizer = torch.optim.SGD(m.parameters(), lr=1e-3)\n",
    "list_err = train(train_loader_classic, nb_epoch, test_loader_classic)\n",
    "show(list_err, \"Background Highway 3+2 couches\")"
   ]
  },
  {
   "cell_type": "code",
   "execution_count": 15,
   "metadata": {},
   "outputs": [
    {
     "name": "stdout",
     "output_type": "stream",
     "text": [
      "Epoch : 0\n",
      "Erreur Test : 0.9159611069485355\n",
      "Epoch : 10\n",
      "Erreur Test : 0.3671760528212618\n",
      "Epoch : 20\n",
      "Erreur Test : 0.3594646087616606\n",
      "Epoch : 30\n",
      "Erreur Test : 0.35158158564354147\n",
      "Epoch : 40\n",
      "Erreur Test : 0.34208139567576407\n",
      "Epoch : 50\n",
      "Erreur Test : 0.33012477020778314\n",
      "Epoch : 60\n",
      "Erreur Test : 0.31614115117760877\n",
      "Epoch : 70\n",
      "Erreur Test : 0.3019353772901818\n",
      "Epoch : 80\n",
      "Erreur Test : 0.2887950543781071\n",
      "Epoch : 90\n",
      "Erreur Test : 0.2775005512606457\n",
      "Train Loss Background Lineaire 5 couches\n"
     ]
    },
    {
     "data": {
      "image/png": "[encoded data removed]",
      "text/plain": [
       "<matplotlib.figure.Figure at 0x1120b4438>"
      ]
     },
     "metadata": {},
     "output_type": "display_data"
    }
   ],
   "source": [
    "m = ModelLineaire5Couche()\n",
    "optimizer = torch.optim.SGD(m.parameters(), lr=1e-3)\n",
    "list_err = train(train_loader_classic, nb_epoch, test_loader_classic)\n",
    "show(list_err, \"Background Lineaire 5 couches\")"
   ]
  },
  {
   "cell_type": "code",
   "execution_count": null,
   "metadata": {
    "collapsed": true
   },
   "outputs": [],
   "source": []
  }
 ],
 "metadata": {
  "kernelspec": {
   "display_name": "Python 3",
   "language": "python",
   "name": "python3"
  },
  "language_info": {
   "codemirror_mode": {
    "name": "ipython",
    "version": 3
   },
   "file_extension": ".py",
   "mimetype": "text/x-python",
   "name": "python",
   "nbconvert_exporter": "python",
   "pygments_lexer": "ipython3",
   "version": "3.6.1"
  }
 },
 "nbformat": 4,
 "nbformat_minor": 2
}
